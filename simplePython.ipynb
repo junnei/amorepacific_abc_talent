{
 "cells": [
  {
   "cell_type": "markdown",
   "metadata": {},
   "source": [
    "## 1) 여러분은 이제 파이썬을 코딩을 시작하게 됩니다.\n",
    "첫번째는 늘 하던것처럼 콘솔창에 \"Hello World\"를 출력해보는 겁니다.\n",
    "시작해 보세요"
   ]
  },
  {
   "cell_type": "code",
   "execution_count": null,
   "metadata": {},
   "outputs": [],
   "source": [
    "# Your code\n",
    "print(\"What?\")"
   ]
  },
  {
   "cell_type": "markdown",
   "metadata": {},
   "source": [
    "## 2) 입력 받아서 자기 이름 출력해보기\n",
    "input 함수를 이용하면 콘솔창에서 여러분의 입력을 받을 수 있습니다. \n",
    "\n",
    "여러분이 입력한 것은 string 데이터 입니다.\n",
    "\n",
    "input을 이용하여 여러분의 이름을 입력받고, 다음과 같은 출력을 하는 코드를 작성해 보세요.\n",
    "만약 여러분이 Python이라고 input함수에 입력했으면 출력 결과는 아래와 같아야 합니다.\n",
    "\n",
    "\"Hello Python\""
   ]
  },
  {
   "cell_type": "code",
   "execution_count": null,
   "metadata": {
    "scrolled": true
   },
   "outputs": [],
   "source": [
    "name = input(\"Enter your name : \")"
   ]
  },
  {
   "cell_type": "code",
   "execution_count": null,
   "metadata": {},
   "outputs": [],
   "source": [
    "print(\"Hello %s\" % str(name))\n",
    "print(\"Hello {} {} {} \".format(name, name, name))"
   ]
  },
  {
   "cell_type": "markdown",
   "metadata": {},
   "source": [
    "## 3) 은퇴 후 치킨 집을 차리다\n",
    "당신은 파이썬을 엄청 열심히 하더니만 결국 엄청난 성공을 거두었고, 은퇴 후 치킨집을 열었다.\n",
    "\n",
    "언제나 알뜰한 당신은 알바생을 고용했는데 시급을 최저시급인 6030원을 주기로 결정했다.\n",
    "\n",
    "프로그래머였던 당신은 시간을 입력하면 줘야할 임금이 계산되는 프로그램을 짜기로했다.\n",
    "\n",
    "시간을 입력하면 최저시급을 적용하여 임금을 계산하는 프로그램을 만드세요.\n",
    "\n",
    "입력된 스트링은 float() 함수로 소수점 계산을 할 수 있도록 변형할 수 있다.\n",
    "\n",
    "40시간 일했을때 241200원의 결과가 나와야 한다."
   ]
  },
  {
   "cell_type": "code",
   "execution_count": null,
   "metadata": {},
   "outputs": [],
   "source": [
    "pay = 0\n",
    "rate = 8720 # 2021년 최저  시급임\n",
    "hrs = input(\"몇 시간 일하셨나요? :\")"
   ]
  },
  {
   "cell_type": "code",
   "execution_count": null,
   "metadata": {},
   "outputs": [],
   "source": [
    "# 계산해 보세요. None이라고 쳐진 부분을 여러분의 변수로 바꿔주시면 됩니다\n",
    "# float() 는 문자를 숫자로 바꿔주는 역할을 합니다\n",
    "\n",
    "pay = float(hrs)*None"
   ]
  },
  {
   "cell_type": "markdown",
   "metadata": {},
   "source": [
    "## 4) 치킨 집이 잘 되서 함수를 만들다\n",
    "치킨집 임금 계산기가 호평을 받아서 당신은 다른 사람들이 이것을 사용할 수 있도록 함수라는 것을 만들기로 했습니다. \n",
    "\n",
    "최저시급도 매년 변하기 때문에 최저시급을 입력 받는 함수를 만드는게 좋을 것 같군요.\n",
    "\n",
    "문자(string) 입력은 float()함수를 이용해서 숫자로 변경할 수 있습니다.\n",
    "\n",
    "input()함수를 이용해서 시간과 최저 시급을 입력 받으세요.\n",
    "\n",
    "최저시급을 8720원으로 했을 때, 일을 45시간 했다면 총 지급해야 할 금액은 392,400원이 되어야 합니다."
   ]
  },
  {
   "cell_type": "code",
   "execution_count": null,
   "metadata": {},
   "outputs": [],
   "source": [
    "def computepay(시간 , 최저시급):\n",
    "    # 여기에 시간 * 최저시급으로 여러분이 임금을 만들고 return을 통해\n",
    "    # 반환하세요. float() 함수를 이용하여 string을 숫자로 바꿀 수 있습니다\n",
    "    # None을 채우시면 됩니다.\n",
    "    None = float(None)*float(None)\n",
    "    return None"
   ]
  },
  {
   "cell_type": "code",
   "execution_count": null,
   "metadata": {},
   "outputs": [],
   "source": [
    "hrs = input(\"일한 시간을 입력:\")\n",
    "r = input(\"시급을 입력 : \")"
   ]
  },
  {
   "cell_type": "code",
   "execution_count": null,
   "metadata": {},
   "outputs": [],
   "source": [
    "p = computepay(hrs,r) # 우리가 만들어 둔 함수"
   ]
  },
  {
   "cell_type": "code",
   "execution_count": null,
   "metadata": {},
   "outputs": [],
   "source": [
    "최총금액 = str(p)\n",
    "print(\"당신의 임금은 \" , 최종금액 , \"원 입니다\")"
   ]
  }
 ],
 "metadata": {
  "kernelspec": {
   "display_name": "Python 3",
   "language": "python",
   "name": "python3"
  },
  "language_info": {
   "codemirror_mode": {
    "name": "ipython",
    "version": 3
   },
   "file_extension": ".py",
   "mimetype": "text/x-python",
   "name": "python",
   "nbconvert_exporter": "python",
   "pygments_lexer": "ipython3",
   "version": "3.8.5"
  }
 },
 "nbformat": 4,
 "nbformat_minor": 4
}
